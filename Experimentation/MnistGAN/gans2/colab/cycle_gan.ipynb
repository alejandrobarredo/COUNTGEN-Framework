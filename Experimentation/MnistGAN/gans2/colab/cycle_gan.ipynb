{
  "nbformat": 4,
  "nbformat_minor": 0,
  "metadata": {
    "colab": {
      "name": "cycle_gan.ipynb",
      "provenance": [],
      "collapsed_sections": [],
      "include_colab_link": true
    },
    "kernelspec": {
      "name": "python3",
      "display_name": "Python 3"
    },
    "accelerator": "GPU"
  },
  "cells": [
    {
      "cell_type": "markdown",
      "metadata": {
        "id": "view-in-github",
        "colab_type": "text"
      },
      "source": [
        "<a href=\"https://colab.research.google.com/github/tlatkowski/gans-2.0/blob/master/colab/cycle_gan.ipynb\" target=\"_parent\"><img src=\"https://colab.research.google.com/assets/colab-badge.svg\" alt=\"Open In Colab\"/></a>"
      ]
    },
    {
      "cell_type": "markdown",
      "metadata": {
        "id": "BWt4E4SaI2iU",
        "colab_type": "text"
      },
      "source": [
        "**Donwload current code from GitHub repository**"
      ]
    },
    {
      "cell_type": "code",
      "metadata": {
        "id": "__NGlcoTDfO3",
        "colab_type": "code",
        "colab": {}
      },
      "source": [
        "!git clone https://github.com/tlatkowski/gans-2.0.git"
      ],
      "execution_count": 0,
      "outputs": []
    },
    {
      "cell_type": "markdown",
      "metadata": {
        "id": "tM0G6msqJDTc",
        "colab_type": "text"
      },
      "source": [
        "**Install all mandatory requirements**"
      ]
    },
    {
      "cell_type": "code",
      "metadata": {
        "id": "aWAnJm9RS-rE",
        "colab_type": "code",
        "colab": {}
      },
      "source": [
        "!pip install -r gans-2.0/requirements/requirements.txt\n",
        "!pip install -r gans-2.0/requirements/requirements-gpu.txt\n",
        "!pip freeze"
      ],
      "execution_count": 0,
      "outputs": []
    },
    {
      "cell_type": "markdown",
      "metadata": {
        "id": "Byl8_cMa6sXz",
        "colab_type": "text"
      },
      "source": [
        "**Check GPU support**"
      ]
    },
    {
      "cell_type": "code",
      "metadata": {
        "id": "mlEYg6Kz6xra",
        "colab_type": "code",
        "colab": {}
      },
      "source": [
        "!nvidia-smi"
      ],
      "execution_count": 0,
      "outputs": []
    },
    {
      "cell_type": "markdown",
      "metadata": {
        "id": "tnljAKie30AM",
        "colab_type": "text"
      },
      "source": [
        "**Run Cycle GAN training on Summer2Winter dataset**"
      ]
    },
    {
      "cell_type": "code",
      "metadata": {
        "id": "-qYT1Tv4EiT8",
        "colab_type": "code",
        "colab": {}
      },
      "source": [
        "!cd gans-2.0 && python3 run.py --problem_type CYCLE_SUMMER2WINTER"
      ],
      "execution_count": 0,
      "outputs": []
    },
    {
      "cell_type": "markdown",
      "metadata": {
        "id": "aN5BltbJ8mp8",
        "colab_type": "text"
      },
      "source": [
        "**Zip outputs**"
      ]
    },
    {
      "cell_type": "code",
      "metadata": {
        "id": "X9M2ddGkS3nY",
        "colab_type": "code",
        "colab": {}
      },
      "source": [
        "!cp -r gans-2.0/outputs/ .\n",
        "!zip -r outputs.zip outputs"
      ],
      "execution_count": 0,
      "outputs": []
    }
  ]
}